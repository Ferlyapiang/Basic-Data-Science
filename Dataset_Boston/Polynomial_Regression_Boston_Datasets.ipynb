{
 "cells": [
  {
   "cell_type": "markdown",
   "metadata": {},
   "source": [
    "# Ujian Tengah Semester\n",
    "Untuk memenuhi Ujian Tengah Semester saya akan menjelaskan tentang Penggunaan Polymial Regression\n",
    "\n",
    "- NRP : 1973005\n",
    "- Nama : Ferly Jeremi Purnawan Apiang"
   ]
  },
  {
   "cell_type": "markdown",
   "metadata": {},
   "source": [
    "# Polynomial Regression"
   ]
  },
  {
   "cell_type": "markdown",
   "metadata": {},
   "source": [
    "- Dalam statistik, regresi polinomial adalah bentuk analisis regresi di mana hubungan antara variabel independen x dan variabel dependen y dimodelkan sebagai polinomial tingkat ke-n dalam x. Regresi polinomial cocok dengan hubungan nonlinear antara nilai x dan rata-rata bersyarat yang sesuai dari y, menunjukkan E(y |x). Meskipun regresi polinomial cocok dengan model nonlinear ke data, sebagai masalah estimasi statistik itu linier, dalam arti bahwa fungsi regresi E(y | x) adalah linear dalam parameter yang tidak diketahui yang diperkirakan dari data. Untuk alasan ini, regresi polinomial dianggap sebagai kasus khusus dari beberapa regresi linier.\n",
    "\n",
    "- Variabel penjelasan (independen) yang dihasilkan dari ekspansi polinomial variabel \"baseline\" dikenal sebagai istilah tingkat yang lebih tinggi. Variabel semacam itu juga digunakan dalam pengaturan klasifikasi."
   ]
  },
  {
   "cell_type": "code",
   "execution_count": 1,
   "metadata": {},
   "outputs": [
    {
     "data": {
      "text/plain": [
       "{'data': array([[6.3200e-03, 1.8000e+01, 2.3100e+00, ..., 1.5300e+01, 3.9690e+02,\n",
       "         4.9800e+00],\n",
       "        [2.7310e-02, 0.0000e+00, 7.0700e+00, ..., 1.7800e+01, 3.9690e+02,\n",
       "         9.1400e+00],\n",
       "        [2.7290e-02, 0.0000e+00, 7.0700e+00, ..., 1.7800e+01, 3.9283e+02,\n",
       "         4.0300e+00],\n",
       "        ...,\n",
       "        [6.0760e-02, 0.0000e+00, 1.1930e+01, ..., 2.1000e+01, 3.9690e+02,\n",
       "         5.6400e+00],\n",
       "        [1.0959e-01, 0.0000e+00, 1.1930e+01, ..., 2.1000e+01, 3.9345e+02,\n",
       "         6.4800e+00],\n",
       "        [4.7410e-02, 0.0000e+00, 1.1930e+01, ..., 2.1000e+01, 3.9690e+02,\n",
       "         7.8800e+00]]),\n",
       " 'target': array([24. , 21.6, 34.7, 33.4, 36.2, 28.7, 22.9, 27.1, 16.5, 18.9, 15. ,\n",
       "        18.9, 21.7, 20.4, 18.2, 19.9, 23.1, 17.5, 20.2, 18.2, 13.6, 19.6,\n",
       "        15.2, 14.5, 15.6, 13.9, 16.6, 14.8, 18.4, 21. , 12.7, 14.5, 13.2,\n",
       "        13.1, 13.5, 18.9, 20. , 21. , 24.7, 30.8, 34.9, 26.6, 25.3, 24.7,\n",
       "        21.2, 19.3, 20. , 16.6, 14.4, 19.4, 19.7, 20.5, 25. , 23.4, 18.9,\n",
       "        35.4, 24.7, 31.6, 23.3, 19.6, 18.7, 16. , 22.2, 25. , 33. , 23.5,\n",
       "        19.4, 22. , 17.4, 20.9, 24.2, 21.7, 22.8, 23.4, 24.1, 21.4, 20. ,\n",
       "        20.8, 21.2, 20.3, 28. , 23.9, 24.8, 22.9, 23.9, 26.6, 22.5, 22.2,\n",
       "        23.6, 28.7, 22.6, 22. , 22.9, 25. , 20.6, 28.4, 21.4, 38.7, 43.8,\n",
       "        33.2, 27.5, 26.5, 18.6, 19.3, 20.1, 19.5, 19.5, 20.4, 19.8, 19.4,\n",
       "        21.7, 22.8, 18.8, 18.7, 18.5, 18.3, 21.2, 19.2, 20.4, 19.3, 22. ,\n",
       "        20.3, 20.5, 17.3, 18.8, 21.4, 15.7, 16.2, 18. , 14.3, 19.2, 19.6,\n",
       "        23. , 18.4, 15.6, 18.1, 17.4, 17.1, 13.3, 17.8, 14. , 14.4, 13.4,\n",
       "        15.6, 11.8, 13.8, 15.6, 14.6, 17.8, 15.4, 21.5, 19.6, 15.3, 19.4,\n",
       "        17. , 15.6, 13.1, 41.3, 24.3, 23.3, 27. , 50. , 50. , 50. , 22.7,\n",
       "        25. , 50. , 23.8, 23.8, 22.3, 17.4, 19.1, 23.1, 23.6, 22.6, 29.4,\n",
       "        23.2, 24.6, 29.9, 37.2, 39.8, 36.2, 37.9, 32.5, 26.4, 29.6, 50. ,\n",
       "        32. , 29.8, 34.9, 37. , 30.5, 36.4, 31.1, 29.1, 50. , 33.3, 30.3,\n",
       "        34.6, 34.9, 32.9, 24.1, 42.3, 48.5, 50. , 22.6, 24.4, 22.5, 24.4,\n",
       "        20. , 21.7, 19.3, 22.4, 28.1, 23.7, 25. , 23.3, 28.7, 21.5, 23. ,\n",
       "        26.7, 21.7, 27.5, 30.1, 44.8, 50. , 37.6, 31.6, 46.7, 31.5, 24.3,\n",
       "        31.7, 41.7, 48.3, 29. , 24. , 25.1, 31.5, 23.7, 23.3, 22. , 20.1,\n",
       "        22.2, 23.7, 17.6, 18.5, 24.3, 20.5, 24.5, 26.2, 24.4, 24.8, 29.6,\n",
       "        42.8, 21.9, 20.9, 44. , 50. , 36. , 30.1, 33.8, 43.1, 48.8, 31. ,\n",
       "        36.5, 22.8, 30.7, 50. , 43.5, 20.7, 21.1, 25.2, 24.4, 35.2, 32.4,\n",
       "        32. , 33.2, 33.1, 29.1, 35.1, 45.4, 35.4, 46. , 50. , 32.2, 22. ,\n",
       "        20.1, 23.2, 22.3, 24.8, 28.5, 37.3, 27.9, 23.9, 21.7, 28.6, 27.1,\n",
       "        20.3, 22.5, 29. , 24.8, 22. , 26.4, 33.1, 36.1, 28.4, 33.4, 28.2,\n",
       "        22.8, 20.3, 16.1, 22.1, 19.4, 21.6, 23.8, 16.2, 17.8, 19.8, 23.1,\n",
       "        21. , 23.8, 23.1, 20.4, 18.5, 25. , 24.6, 23. , 22.2, 19.3, 22.6,\n",
       "        19.8, 17.1, 19.4, 22.2, 20.7, 21.1, 19.5, 18.5, 20.6, 19. , 18.7,\n",
       "        32.7, 16.5, 23.9, 31.2, 17.5, 17.2, 23.1, 24.5, 26.6, 22.9, 24.1,\n",
       "        18.6, 30.1, 18.2, 20.6, 17.8, 21.7, 22.7, 22.6, 25. , 19.9, 20.8,\n",
       "        16.8, 21.9, 27.5, 21.9, 23.1, 50. , 50. , 50. , 50. , 50. , 13.8,\n",
       "        13.8, 15. , 13.9, 13.3, 13.1, 10.2, 10.4, 10.9, 11.3, 12.3,  8.8,\n",
       "         7.2, 10.5,  7.4, 10.2, 11.5, 15.1, 23.2,  9.7, 13.8, 12.7, 13.1,\n",
       "        12.5,  8.5,  5. ,  6.3,  5.6,  7.2, 12.1,  8.3,  8.5,  5. , 11.9,\n",
       "        27.9, 17.2, 27.5, 15. , 17.2, 17.9, 16.3,  7. ,  7.2,  7.5, 10.4,\n",
       "         8.8,  8.4, 16.7, 14.2, 20.8, 13.4, 11.7,  8.3, 10.2, 10.9, 11. ,\n",
       "         9.5, 14.5, 14.1, 16.1, 14.3, 11.7, 13.4,  9.6,  8.7,  8.4, 12.8,\n",
       "        10.5, 17.1, 18.4, 15.4, 10.8, 11.8, 14.9, 12.6, 14.1, 13. , 13.4,\n",
       "        15.2, 16.1, 17.8, 14.9, 14.1, 12.7, 13.5, 14.9, 20. , 16.4, 17.7,\n",
       "        19.5, 20.2, 21.4, 19.9, 19. , 19.1, 19.1, 20.1, 19.9, 19.6, 23.2,\n",
       "        29.8, 13.8, 13.3, 16.7, 12. , 14.6, 21.4, 23. , 23.7, 25. , 21.8,\n",
       "        20.6, 21.2, 19.1, 20.6, 15.2,  7. ,  8.1, 13.6, 20.1, 21.8, 24.5,\n",
       "        23.1, 19.7, 18.3, 21.2, 17.5, 16.8, 22.4, 20.6, 23.9, 22. , 11.9]),\n",
       " 'feature_names': array(['CRIM', 'ZN', 'INDUS', 'CHAS', 'NOX', 'RM', 'AGE', 'DIS', 'RAD',\n",
       "        'TAX', 'PTRATIO', 'B', 'LSTAT'], dtype='<U7'),\n",
       " 'DESCR': \".. _boston_dataset:\\n\\nBoston house prices dataset\\n---------------------------\\n\\n**Data Set Characteristics:**  \\n\\n    :Number of Instances: 506 \\n\\n    :Number of Attributes: 13 numeric/categorical predictive. Median Value (attribute 14) is usually the target.\\n\\n    :Attribute Information (in order):\\n        - CRIM     per capita crime rate by town\\n        - ZN       proportion of residential land zoned for lots over 25,000 sq.ft.\\n        - INDUS    proportion of non-retail business acres per town\\n        - CHAS     Charles River dummy variable (= 1 if tract bounds river; 0 otherwise)\\n        - NOX      nitric oxides concentration (parts per 10 million)\\n        - RM       average number of rooms per dwelling\\n        - AGE      proportion of owner-occupied units built prior to 1940\\n        - DIS      weighted distances to five Boston employment centres\\n        - RAD      index of accessibility to radial highways\\n        - TAX      full-value property-tax rate per $10,000\\n        - PTRATIO  pupil-teacher ratio by town\\n        - B        1000(Bk - 0.63)^2 where Bk is the proportion of blacks by town\\n        - LSTAT    % lower status of the population\\n        - MEDV     Median value of owner-occupied homes in $1000's\\n\\n    :Missing Attribute Values: None\\n\\n    :Creator: Harrison, D. and Rubinfeld, D.L.\\n\\nThis is a copy of UCI ML housing dataset.\\nhttps://archive.ics.uci.edu/ml/machine-learning-databases/housing/\\n\\n\\nThis dataset was taken from the StatLib library which is maintained at Carnegie Mellon University.\\n\\nThe Boston house-price data of Harrison, D. and Rubinfeld, D.L. 'Hedonic\\nprices and the demand for clean air', J. Environ. Economics & Management,\\nvol.5, 81-102, 1978.   Used in Belsley, Kuh & Welsch, 'Regression diagnostics\\n...', Wiley, 1980.   N.B. Various transformations are used in the table on\\npages 244-261 of the latter.\\n\\nThe Boston house-price data has been used in many machine learning papers that address regression\\nproblems.   \\n     \\n.. topic:: References\\n\\n   - Belsley, Kuh & Welsch, 'Regression diagnostics: Identifying Influential Data and Sources of Collinearity', Wiley, 1980. 244-261.\\n   - Quinlan,R. (1993). Combining Instance-Based and Model-Based Learning. In Proceedings on the Tenth International Conference of Machine Learning, 236-243, University of Massachusetts, Amherst. Morgan Kaufmann.\\n\",\n",
       " 'filename': 'D:\\\\Anaconda\\\\lib\\\\site-packages\\\\sklearn\\\\datasets\\\\data\\\\boston_house_prices.csv'}"
      ]
     },
     "execution_count": 1,
     "metadata": {},
     "output_type": "execute_result"
    }
   ],
   "source": [
    "from sklearn.datasets import load_boston\n",
    "\n",
    "boston = load_boston()\n",
    "boston"
   ]
  },
  {
   "cell_type": "markdown",
   "metadata": {},
   "source": [
    "Lakukan Load datasets Boston karena kita akan memakai data dan melakuka prediksi dengan dataset tersebut."
   ]
  },
  {
   "cell_type": "markdown",
   "metadata": {},
   "source": [
    "## Sample Dataset\n",
    "Pembuatan sebuah sampel data untuk dilakukan prediksi data.\n",
    "\n",
    "- Training sample data\n",
    "- Testing Sample data\n",
    "### Training Dataset"
   ]
  },
  {
   "cell_type": "code",
   "execution_count": 4,
   "metadata": {},
   "outputs": [
    {
     "data": {
      "text/html": [
       "<div>\n",
       "<style scoped>\n",
       "    .dataframe tbody tr th:only-of-type {\n",
       "        vertical-align: middle;\n",
       "    }\n",
       "\n",
       "    .dataframe tbody tr th {\n",
       "        vertical-align: top;\n",
       "    }\n",
       "\n",
       "    .dataframe thead th {\n",
       "        text-align: right;\n",
       "    }\n",
       "</style>\n",
       "<table border=\"1\" class=\"dataframe\">\n",
       "  <thead>\n",
       "    <tr style=\"text-align: right;\">\n",
       "      <th></th>\n",
       "      <th>kenyamanan</th>\n",
       "      <th>ruangan</th>\n",
       "      <th>harga</th>\n",
       "    </tr>\n",
       "  </thead>\n",
       "  <tbody>\n",
       "    <tr>\n",
       "      <th>0</th>\n",
       "      <td>0.84230</td>\n",
       "      <td>8.575</td>\n",
       "      <td>33.2</td>\n",
       "    </tr>\n",
       "    <tr>\n",
       "      <th>1</th>\n",
       "      <td>0.22731</td>\n",
       "      <td>3.421</td>\n",
       "      <td>14.6</td>\n",
       "    </tr>\n",
       "    <tr>\n",
       "      <th>2</th>\n",
       "      <td>0.77729</td>\n",
       "      <td>7.185</td>\n",
       "      <td>29.9</td>\n",
       "    </tr>\n",
       "    <tr>\n",
       "      <th>3</th>\n",
       "      <td>0.67837</td>\n",
       "      <td>6.998</td>\n",
       "      <td>32.4</td>\n",
       "    </tr>\n",
       "    <tr>\n",
       "      <th>4</th>\n",
       "      <td>0.79050</td>\n",
       "      <td>7.947</td>\n",
       "      <td>32.2</td>\n",
       "    </tr>\n",
       "  </tbody>\n",
       "</table>\n",
       "</div>"
      ],
      "text/plain": [
       "   kenyamanan  ruangan  harga\n",
       "0     0.84230    8.575   33.2\n",
       "1     0.22731    3.421   14.6\n",
       "2     0.77729    7.185   29.9\n",
       "3     0.67837    6.998   32.4\n",
       "4     0.79050    7.947   32.2"
      ]
     },
     "execution_count": 4,
     "metadata": {},
     "output_type": "execute_result"
    }
   ],
   "source": [
    "import pandas as pd\n",
    "\n",
    "harga = {'kenyamanan': [0.8423, 0.22731, 0.77729, 0.67837, 0.7905], \n",
    "         'ruangan': [8.575, 3.421, 7.185, 6.998, 7.947],\n",
    "         'harga': [33.2, 14.6, 29.9, 32.4, 32.2]}\n",
    "\n",
    "train_total_df = pd.DataFrame(harga)\n",
    "train_total_df"
   ]
  },
  {
   "cell_type": "markdown",
   "metadata": {},
   "source": [
    "Data kali ini awalnya dibentuk dari suatu dictionary yang terdiri dari 3 buah keys yaitu kenyamanan untuk rumah tersebut, ruangan atau luas dari ruangan permeter, dan harga. dimana setiap keys ini akan menampung list yang berisi sekumpulan bilangan.\n",
    "\n",
    "Alasan mengambil features tersebut untuk mengetahui harga rumah bila diketahui tingkat kenyamanan pemakaian rumah dan jumlah luas ruangan rumah tersebut.\n",
    "\n",
    "Penggunan features tersebut menurut saya sudah sangat jelas untuk menentukan sebuah harga dalam data yang sederhana"
   ]
  },
  {
   "cell_type": "markdown",
   "metadata": {},
   "source": [
    "### Preprocessing Dataset (Training)"
   ]
  },
  {
   "cell_type": "code",
   "execution_count": 5,
   "metadata": {},
   "outputs": [
    {
     "name": "stdout",
     "output_type": "stream",
     "text": [
      "X_train:\n",
      "[[0.8423 ]\n",
      " [0.22731]\n",
      " [0.77729]\n",
      " [0.67837]\n",
      " [0.7905 ]]\n",
      "\n",
      "y_train: [33.2 14.6 29.9 32.4 32.2]\n"
     ]
    }
   ],
   "source": [
    "import numpy as np\n",
    "\n",
    "X_train = np.array(train_total_df['kenyamanan']).reshape(-1, 1)\n",
    "y_train = np.array(train_total_df['harga'])\n",
    "\n",
    "print(f'X_train:\\n{X_train}\\n')\n",
    "print(f'y_train: {y_train}')"
   ]
  },
  {
   "cell_type": "markdown",
   "metadata": {},
   "source": [
    "Penampungan nilai dengan menggunakan numpy array untuk melakukan pemanggilan dengan menggunakan _np.array(train_total_df['harga'])_ Kolomm Harga merupakan sebuah kolom yang menentukan sebuah target prediction lalu nilai dalam train total tersebut akan di tampung ke dalam x train dan y train atau variable baru bebas penulisannya\n",
    "\n",
    "X_train berupa format array 2 dimensi\n",
    "\n",
    "y_train berupa format array 1 dimensi"
   ]
  },
  {
   "cell_type": "markdown",
   "metadata": {},
   "source": [
    "### Polynomial Regression: Quadratic\n",
    "$y = \\alpha + \\beta_1x + \\beta_2x^2$\n",
    "\n",
    "- Nilai feature nya hanya ada satu yaitu x.\n",
    "- Hanya saja nilai feature yang tunggal tersebut akan direpresentasikan dalam format polynomial.\n",
    "- dalam kasus ini data menggunakan polynomial derajat 2 yang berarti akan memiliki $x^1$ dan $x^2$.\n",
    "- Untuk $x^1$ akan dikalikan dengan $\\beta^1$ dan untuk $x^2$ akan dikalikan dengan $\\beta^2$.\n",
    "#### Polynomial Features"
   ]
  },
  {
   "cell_type": "code",
   "execution_count": 8,
   "metadata": {},
   "outputs": [
    {
     "name": "stdout",
     "output_type": "stream",
     "text": [
      "X_train_quadratic:\n",
      "[[1.         0.8423     0.70946929]\n",
      " [1.         0.22731    0.05166984]\n",
      " [1.         0.77729    0.60417974]\n",
      " [1.         0.67837    0.46018586]\n",
      " [1.         0.7905     0.62489025]]\n",
      "\n"
     ]
    }
   ],
   "source": [
    "from sklearn.preprocessing import PolynomialFeatures\n",
    "\n",
    "quadratic_feature = PolynomialFeatures(degree=2)\n",
    "X_train_quadratic = quadratic_feature.fit_transform(X_train)\n",
    "\n",
    "print(f'X_train_quadratic:\\n{X_train_quadratic}\\n')"
   ]
  },
  {
   "cell_type": "markdown",
   "metadata": {},
   "source": [
    "- import modul dengan memanggil \"from sklearn.preprocessing import PolynomialFeatures\".\n",
    "- Bentuk objek polynomial fetures nya dengan memanggil \"PolynomialFeatures\" dengan menyertakan parameter \"(degree=2)\" atau derajat polynomialnya yang dalam kasus ini nilainya adalah 2. Karena dalam kasus kali ini kita akan membentuk \"Quadratic Polynomial Regression\", maka degree nya kita beri nilai 2 lalu ditampung ke dalam variabel \"quadratic_feature\".\n",
    "- Objek tersebut akan digunakan untuk melakukan proses transformasi terhadap dataset feature yang kita miliki. Oleh karena itu, kita memanggil \"quadratic_feature.fit_transform\" dengan menyertakan parameter \"X_train\". Lalu hasil transformasinya, akan kita tampung ke dalam variabel \"X_train_quadratic\".\n",
    "- Variabel \"X_train_quadratic\" akan berisi features dari training set yang sudah ditransformasikan kedalam \"Polynomial Features\".\n",
    "- Tampilkan hasilnya."
   ]
  },
  {
   "cell_type": "markdown",
   "metadata": {},
   "source": [
    "## Training Model (Training)"
   ]
  },
  {
   "cell_type": "code",
   "execution_count": 9,
   "metadata": {},
   "outputs": [
    {
     "data": {
      "text/plain": [
       "LinearRegression()"
      ]
     },
     "execution_count": 9,
     "metadata": {},
     "output_type": "execute_result"
    }
   ],
   "source": [
    "from sklearn.linear_model import LinearRegression\n",
    "\n",
    "model = LinearRegression()\n",
    "model.fit(X_train_quadratic, y_train)"
   ]
  },
  {
   "cell_type": "markdown",
   "metadata": {},
   "source": [
    "- Import modul \"from sklearn.linear_model import LinearRegression\".\n",
    "- Lalu bentuk objek modelnya dengan memanggil \"LinearRegression()\" yang kita tampung kedalam variabel model.\n",
    "- Untuk selanjutnya, objek model ini akan kita training dengan memanfaatkan nilai fetures yang sudah kita transformasikan kedalam polynomial dengan memanggil \"(X_train_quadratic, y_train)\". Perlu diperhatikan bahwa proses transformasi polynomialnya dikenakan pada features dan tidak dikenakan pada target.\n",
    "- Tidak ada perbedaan antar implementasi linear regression dan polynomial regression. Yang berbeda hanyalah pada polynomial regression yang melakukan transformasi features kedalam polynomial features sebelum melakukan proses training model."
   ]
  },
  {
   "cell_type": "markdown",
   "metadata": {},
   "source": [
    "object model diatas akan ditraining dengan memanfaatkan features yang sudah di transformasikan kedalam polynomial. Proses transformasi polynomialnya pada features dan tidak dikenakan pada target."
   ]
  },
  {
   "cell_type": "markdown",
   "metadata": {},
   "source": [
    "### Visualisasi Model"
   ]
  },
  {
   "cell_type": "code",
   "execution_count": 22,
   "metadata": {},
   "outputs": [
    {
     "data": {
      "image/png": "[encoded data removed]",
      "text/plain": [
       "<Figure size 432x288 with 1 Axes>"
      ]
     },
     "metadata": {
      "needs_background": "light"
     },
     "output_type": "display_data"
    }
   ],
   "source": [
    "import matplotlib.pyplot as plt\n",
    "\n",
    "X_vis = np.linspace(0, 1, 100).reshape(-1, 1) \n",
    "X_vis_quadratic = quadratic_feature.transform(X_vis) \n",
    "y_vis_quadratic = model.predict(X_vis_quadratic) \n",
    "\n",
    "plt.scatter(X_train, y_train) \n",
    "plt.plot(X_vis, y_vis_quadratic, '-g') \n",
    "\n",
    "plt.title('Perbandingan Kenyamanan dan Harga')\n",
    "plt.xlabel('kenyamanan')\n",
    "plt.ylabel('Harga')\n",
    "plt.xlim(0, 1)\n",
    "plt.ylim(0, 50)\n",
    "plt.grid(True)\n",
    "plt.show()"
   ]
  },
  {
   "cell_type": "markdown",
   "metadata": {},
   "source": [
    "Yang divisualisasikan ada 2 hal yang pertama adalah X_train dan y_train atau datapoint yang kita gunakan untuk melakukan proses trainingnya, untuk data traininnya akan visualisasikan sebagai scatter plot dan akan menghasilkan 5 datapoint, kelima titik diatas merepresentasikan kelima datapoint pada training set. Lalu akan melakukan plotting hasil prediksi dengan plotting dengan warna garis hijau."
   ]
  },
  {
   "cell_type": "markdown",
   "metadata": {},
   "source": [
    "# Testing"
   ]
  },
  {
   "cell_type": "code",
   "execution_count": 16,
   "metadata": {},
   "outputs": [
    {
     "data": {
      "text/html": [
       "<div>\n",
       "<style scoped>\n",
       "    .dataframe tbody tr th:only-of-type {\n",
       "        vertical-align: middle;\n",
       "    }\n",
       "\n",
       "    .dataframe tbody tr th {\n",
       "        vertical-align: top;\n",
       "    }\n",
       "\n",
       "    .dataframe thead th {\n",
       "        text-align: right;\n",
       "    }\n",
       "</style>\n",
       "<table border=\"1\" class=\"dataframe\">\n",
       "  <thead>\n",
       "    <tr style=\"text-align: right;\">\n",
       "      <th></th>\n",
       "      <th>kenyamanan</th>\n",
       "      <th>ruangan</th>\n",
       "      <th>harga</th>\n",
       "    </tr>\n",
       "  </thead>\n",
       "  <tbody>\n",
       "    <tr>\n",
       "      <th>0</th>\n",
       "      <td>0.25530</td>\n",
       "      <td>1.575</td>\n",
       "      <td>13.2</td>\n",
       "    </tr>\n",
       "    <tr>\n",
       "      <th>1</th>\n",
       "      <td>0.73731</td>\n",
       "      <td>8.421</td>\n",
       "      <td>29.6</td>\n",
       "    </tr>\n",
       "    <tr>\n",
       "      <th>2</th>\n",
       "      <td>0.25290</td>\n",
       "      <td>4.185</td>\n",
       "      <td>15.9</td>\n",
       "    </tr>\n",
       "    <tr>\n",
       "      <th>3</th>\n",
       "      <td>0.26837</td>\n",
       "      <td>3.998</td>\n",
       "      <td>14.4</td>\n",
       "    </tr>\n",
       "    <tr>\n",
       "      <th>4</th>\n",
       "      <td>0.99050</td>\n",
       "      <td>9.947</td>\n",
       "      <td>30.2</td>\n",
       "    </tr>\n",
       "  </tbody>\n",
       "</table>\n",
       "</div>"
      ],
      "text/plain": [
       "   kenyamanan  ruangan  harga\n",
       "0     0.25530    1.575   13.2\n",
       "1     0.73731    8.421   29.6\n",
       "2     0.25290    4.185   15.9\n",
       "3     0.26837    3.998   14.4\n",
       "4     0.99050    9.947   30.2"
      ]
     },
     "execution_count": 16,
     "metadata": {},
     "output_type": "execute_result"
    }
   ],
   "source": [
    "import pandas as pd\n",
    "\n",
    "harga = {'kenyamanan': [0.2553, 0.73731, 0.2529, 0.26837, 0.9905], \n",
    "         'ruangan': [1.575, 8.421, 4.185, 3.998, 9.947],\n",
    "         'harga': [13.2, 29.6, 15.9, 14.4, 30.2]}\n",
    "\n",
    "test_total_df = pd.DataFrame(harga)\n",
    "test_total_df"
   ]
  },
  {
   "cell_type": "code",
   "execution_count": 18,
   "metadata": {},
   "outputs": [
    {
     "name": "stdout",
     "output_type": "stream",
     "text": [
      "X_test:\n",
      "[[0.2553 ]\n",
      " [0.73731]\n",
      " [0.2529 ]\n",
      " [0.26837]\n",
      " [0.9905 ]]\n",
      "\n",
      "y_test: [13.2 29.6 15.9 14.4 30.2]\n"
     ]
    }
   ],
   "source": [
    "import numpy as np\n",
    "\n",
    "X_test = np.array(test_total_df['kenyamanan']).reshape(-1, 1)\n",
    "y_test = np.array(test_total_df['harga'])\n",
    "\n",
    "print(f'X_test:\\n{X_test}\\n')\n",
    "print(f'y_test: {y_test}')"
   ]
  },
  {
   "cell_type": "code",
   "execution_count": 19,
   "metadata": {},
   "outputs": [
    {
     "name": "stdout",
     "output_type": "stream",
     "text": [
      "X_train_quadratic:\n",
      "[[1.         0.2553     0.06517809]\n",
      " [1.         0.73731    0.54362604]\n",
      " [1.         0.2529     0.06395841]\n",
      " [1.         0.26837    0.07202246]\n",
      " [1.         0.9905     0.98109025]]\n",
      "\n"
     ]
    }
   ],
   "source": [
    "from sklearn.preprocessing import PolynomialFeatures\n",
    "\n",
    "quadratic_feature = PolynomialFeatures(degree=2)\n",
    "X_test_quadratic = quadratic_feature.fit_transform(X_test)\n",
    "\n",
    "print(f'X_train_quadratic:\\n{X_test_quadratic}\\n')"
   ]
  },
  {
   "cell_type": "code",
   "execution_count": 20,
   "metadata": {},
   "outputs": [
    {
     "data": {
      "text/plain": [
       "LinearRegression()"
      ]
     },
     "execution_count": 20,
     "metadata": {},
     "output_type": "execute_result"
    }
   ],
   "source": [
    "model = LinearRegression()\n",
    "model.fit(X_test_quadratic, y_test)"
   ]
  },
  {
   "cell_type": "code",
   "execution_count": 28,
   "metadata": {},
   "outputs": [
    {
     "data": {
      "image/png": "[encoded data removed]",
      "text/plain": [
       "<Figure size 432x288 with 1 Axes>"
      ]
     },
     "metadata": {
      "needs_background": "light"
     },
     "output_type": "display_data"
    }
   ],
   "source": [
    "import matplotlib.pyplot as plt\n",
    "\n",
    "X_vis = np.linspace(0, 1, 100).reshape(-1, 1) \n",
    "X_vis_quadratic = quadratic_feature.transform(X_vis) \n",
    "y_vis_quadratic = model.predict(X_vis_quadratic) \n",
    "\n",
    "plt.scatter(X_test, y_test) \n",
    "plt.plot(X_vis, y_vis_quadratic, 'y') \n",
    "\n",
    "plt.title('Perbandingan kenyamanan dan Harga')\n",
    "plt.xlabel('kenyamanan')\n",
    "plt.ylabel('Harga')\n",
    "plt.xlim(0, 1)\n",
    "plt.ylim(0, 50)\n",
    "plt.grid(True)\n",
    "plt.show()"
   ]
  },
  {
   "cell_type": "markdown",
   "metadata": {},
   "source": [
    "### Polynomial Regression: Quadratic vs Cubic "
   ]
  },
  {
   "cell_type": "code",
   "execution_count": 41,
   "metadata": {},
   "outputs": [
    {
     "data": {
      "image/png": "[encoded data removed]",
      "text/plain": [
       "<Figure size 432x288 with 1 Axes>"
      ]
     },
     "metadata": {
      "needs_background": "light"
     },
     "output_type": "display_data"
    }
   ],
   "source": [
    "# Training Set\n",
    "plt.scatter(X_train, y_train) \n",
    "\n",
    "# Quadratic\n",
    "quadratic_featuriser = PolynomialFeatures(degree=2) \n",
    "X_train_quadratic = quadratic_feature.fit_transform(X_train) \n",
    "model = LinearRegression() \n",
    "model.fit(X_train_quadratic, y_train)  \n",
    "X_vis_quadratic = quadratic_feature.transform(X_vis) \n",
    "y_vis = model.predict(X_vis_quadratic) \n",
    "plt.plot(X_vis, y_vis, '--r', label='quadratic') \n",
    "\n",
    "plt.title('Perbandingan Diameter dan Harga Pizza')\n",
    "plt.xlabel('Pupil')\n",
    "plt.ylabel('Harga')\n",
    "plt.legend()\n",
    "plt.xlim(0, 1)\n",
    "plt.ylim(0, 50)\n",
    "plt.grid(True)\n",
    "plt.show()"
   ]
  },
  {
   "cell_type": "markdown",
   "metadata": {},
   "source": [
    "perbedaan nya hanya pada penerapan polynomial feature dengan derajat 2 lalu melakukan fit transform pada nilai X_train, melakukan proses training, dengan menggunakan features yang sudah menjadi quadratic polynomial, X_vis akan ditransformasikan menjadi quadratic polynomial dan melakukan prediksi"
   ]
  }
 ],
 "metadata": {
  "kernelspec": {
   "display_name": "Python 3",
   "language": "python",
   "name": "python3"
  },
  "language_info": {
   "codemirror_mode": {
    "name": "ipython",
    "version": 3
   },
   "file_extension": ".py",
   "mimetype": "text/x-python",
   "name": "python",
   "nbconvert_exporter": "python",
   "pygments_lexer": "ipython3",
   "version": "3.8.5"
  }
 },
 "nbformat": 4,
 "nbformat_minor": 4
}
