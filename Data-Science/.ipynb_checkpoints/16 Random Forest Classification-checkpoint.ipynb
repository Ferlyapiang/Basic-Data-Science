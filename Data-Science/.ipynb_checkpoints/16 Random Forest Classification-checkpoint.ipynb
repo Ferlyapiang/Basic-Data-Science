{
 "cells": [
  {
   "cell_type": "markdown",
   "metadata": {},
   "source": [
    "# Classification Task dengan Random Forest\n",
    "\n",
    "- Nama : Ferly Jeremi Purnawan Apiang\n",
    "- NRP : 1973005\n",
    "\n",
    "**Random Forest** termasuk model machine learning yang umum ditemui dan merupakan pengembangan dari model **Desicion Tree**.   "
   ]
  },
  {
   "cell_type": "markdown",
   "metadata": {},
   "source": [
    "## General ML Model Training"
   ]
  },
  {
   "cell_type": "markdown",
   "metadata": {},
   "source": [
    "Melakukan review terhadap general work flow dari proses training model dalam machine learning.\n",
    "\n",
    "<div>\n",
    "    <img src=\"./Gambartaks16/general_ML_model_training.png\" width=\"500\">\n",
    "</div>\n",
    "\n",
    "**General ML Model Training** :\n",
    "\n",
    "- Proses training selalu diawali dengan Training set, dimana didalamnya terdiri dari sekumpulan training features atau biasa direpresentasikan sebagai *X_Train* dan juga sekumpulan target label yang juga direpresentasikan sebagai *y_train*. \n",
    "- Training set ini kita gunakan untuk melakukan training model machine learning, dan model yang sudah di training ini akan dikenal dengan istilah  **Trained Model**.\n",
    "- Selanjutnya **Trained Model** tersebut akan kita gunakan untuk melakukan prediksi terhadap sekumpulan nilai feature yang baru. Dalam hal ini, sekumpulan featre baru direpresentasikan sebagai *X_new* dan prediksi yang dihasilkan oleh **Trained Model** ini akan direpresentasikan sebagai *y_pred*.\n",
    "\n",
    "Berikutnya kita akan mempelajari suatu teknik dimana kita bisa menggabungkan beberapa model machine learning. "
   ]
  },
  {
   "cell_type": "markdown",
   "metadata": {},
   "source": [
    "## Ensemble Learning: Heterogeneous & Homogeneous\n",
    "\n",
    "**Ensemble Learning** merupakan suatu teknik yang dikenal dalam machine learning untuk melakukan penggabungan beberapa model prediksi. "
   ]
  },
  {
   "cell_type": "markdown",
   "metadata": {},
   "source": [
    "<div>\n",
    "    <img src=\"./Gambartaks16/ensemble_learning.png\" width=\"800\">\n",
    "</div>\n",
    "\n",
    "**Ensemble Learning** :\n",
    "- **Ensemble Learning** diawali dari suatu training set, hanya saja kali ini training set yang tersedia akan kita gunakan untuk melakukan training beberapa model. Untuk kasus ini, terdapat 3 model machine learning yang akan kita training yaitu **KNN**, **SVM**, dan **Desicion Tree**. \n",
    "- Proses training tersebut menghasilkan 3 *Trained Model* yaitu **Trained Model 1**, **Trained Model 2**, dan **Trained Model 3**. \n",
    "- Selanjutnya, setiap *Trained Model* tersebut akan kita gunakan untuk melakukan prediksi terhadap sekumpulan nilai feature yang baru, dimana prediksi yang dihasilkan oleh setiap *Trained Model* tersebut akan direpresentasikan sebagai **y_pred 1**, **y_pred 2**, dan **y_pred 3**. Berarti **y_pred 1** merupakan hasil prediksi yang dihasilkan oleh **Trained Model 1** terhadap *X_new* dan seterusnya pada **y_pred 2** serta **y_pred 3**.\n",
    "- Pada kasus kali ini karena terdapat lebih dari 1 prediksi, maka perlu disatukan dengan suatu mekanisme yang dikenal dengan istilah **Majority Voting**. Pada kasus *Regression Task*, **Majority Voting** dilakukan dengan menggunakan nilai mean atau nilai rata-rata. Sedangkan pada kasus *Classification Task*, **Majority Voting** dicapai dengan menerapkan mode atau kemunculan terbanyak.\n",
    "- Dalam kasus kali ini, hasil prediksi final direprsentasikan sebagai **y_pred final** atau dengan kata lain, **y_pred 1**, **y_pred 2**, dan **y_pred 3** tersebut akan digabungkan dengan menggunakan **Majority Voting** sehingga dihasilkan **y_pred final**.\n",
    "\n",
    "Karena disini kita memadukan sejumlah model machine learning yang berbeda, maka seringkali juga dikenal sebagai **Heterogeneous Ensemble Learning** atau model **Ensemble Learning** yang heterogen. Sedangkan untuk kasusk dimana kita memadukan sejumlah model machine learning yang sejenis, akan dikenal istilah **Homogeneous Ensemble Learning** atau model **Ensemble Learning** yang homogen. "
   ]
  },
  {
   "cell_type": "markdown",
   "metadata": {},
   "source": [
    "## Bagging: Bootstrap Aggregating\n",
    "\n",
    "Pada bagian ini kita akan mempelajari **Homogeneous Ensemble Learning** dimana kita akan memadukan sejumlah model machine learning yang sejenis."
   ]
  },
  {
   "cell_type": "markdown",
   "metadata": {},
   "source": [
    "<div>\n",
    "    <img src=\"./Gambartaks16/bagging.png\" width=\"800\">\n",
    "</div>\n",
    "\n",
    "**Bootstrap Aggregating** :\n",
    "- Mekanisme **Bagging** pada dasarnya menerapkan **Random Sampling with Replacement** terhadap training set yang kita miliki dan akan menghasilkan beberapa **Training Set** baru sejumlah model yang akan kita training. \n",
    "- Training set baru yang dihasilkan oleh proses **Bagging** ini dikenal dengan istilah **Bag**. Karena pada kasus kita kali ini kita akan melakukan training terhadap 3 buah model, maka kita juga perlu mempersiapkan tiga buah **Bag** yang dalam hal ini ialah **Bag 1**, **Bag 2**, dan **Bag 3**. Ketiga **Bag** tersebut berisi sekumpulan sample data yang berbeda satu dengan yang lainnya karena ketiga **Bag** tersebut dihasilkan dari proses **Random Sampling with Replacement** yang diambil dari **Training Set**.\n",
    "- Selanjutnya setiap **Bag** tersebut akan kita gunakan untuk melakukan training 3 model machine learning yang sejenis yang dalam hal ini ialah **Bag 1**, **Bag 2**, dan **Bag 3**, dan *Model* machine learning yang kita gunakan disini merupakan model machine learning yang sejenis.\n",
    "- Lalu setelah melalui proses training, maka akan dihasilkan **Trained Model** yang dalam kasus disini akan dihasilkan 3 **Trained Model** yaitu **Trained Model 1**, **Trained Model 2**, dan **Trained Model 3**. Setiap **Trained Model** tersebut berikutnya kita akan gunakan untuk melakukan prediksi terhadap sekumpulan nilai feature yang baru. \n",
    "- Hasil prediksi yang dihasilkan oleh setiap **Trained Model** tersebut selanjutnya akan kita satukan melalui proses **Majority Voting** untuk dihasilkan prediksi final yaitu **y_pred**. \n",
    "\n",
    "**Note** : **Trained Model** tersebut akan menghasilkan hasil prediksi yang berbeda-beda. Karena kita memiliki 3 buah **Trained Model**, berarti kita juga akan memiliki 3 buah hasil prediksi dan ketiga prediksi tersebut perlu kita satukan untuk menghasilkan hasil prediksi final. "
   ]
  },
  {
   "cell_type": "markdown",
   "metadata": {},
   "source": [
    "## Random Forest\n",
    "\n",
    "**Random Forest** merupakan implementasi dari **Homogeneous Ensemble Learning** yang menerapkan **Desicion Tree**.  "
   ]
  },
  {
   "cell_type": "markdown",
   "metadata": {},
   "source": [
    "<div>\n",
    "    <img src=\"./Gambartaks16/random_forest.png\" width=\"800\">\n",
    "</div>\n",
    "\n",
    "Konsep berpikir **Random Forest** :\n",
    "- Bisa kita lihat pada gambar **Random Forest** tersebut, model yang akan kita training tersebut adalah model yang sejenis yang untuk kasus kita kali ini adalah **Desicion Tree**. **Random Forest** pada dasarnya terdiri dari sekumpulan **Desicion Tree** atau **Pohon Keputusan**. \n",
    "- Yang perlu ditekankan disini adalah selain **Bagging**, **Random Forest** juga menerapkan **Feature Randomness**, dimana untuk setiap **Bag** yang dihasilkan akan mengadopsi sejumlah feature yang dipilih secara acak dari *Training Set* sumbernya. Atau dengan kata lain disini, setiap model **Desicion Tree** akan di training dengan **Bag** yang berisi dataset yang beragam. Tidak hanya dalam hal baris data saja melainkan juga beragam dalam hal feature yang disertakan. \n",
    "- Berarti disini **Bag 1**, **Bag 2**, dan **Bag 3** selain mengusung baris data yang berbeda, mereka juga akan megusung data yang berbeda yang mereka pilih secara acak dari *Training Set* sumbernya. \n",
    "- Karena setiap **Desicion Tree** disini ditraining dengan dataset yang berbeda, maka dihasilkanlah sejumlah **Trained Model** yang beragam juga yang dalam hal ini ada **Trained Model 1**, **Trained Model 3**, dan **Trained Model 3**.\n",
    "-  Walaupun ketiga **Trained Model** tersebut sebenarnya menggunakan model machine learning yang sejenis yaitu **Desisicion Tree**. Setiap **Trained Model** ini selanjutnya akan kita gunakan untuk melakukan prediksi terhadap sekumpulan nilai feature yang baru.\n",
    "- Prediksi yang dihasilkan oleh setiap **Trained Model** akan disatukan melalui porses **Majority Voting** untuk menghasilkan nilai prediksi final yaitu **y_pred**. \n",
    "\n",
    "Strategi semacam ini menjadikan **Random Forest** memiliki performa yang jauh lebih superior bila dibandingkan dengan model **Desicion Tree** yang biasa karena setiap tree yang ada ditraining menggunakan subset dari keseluruhan training set yang tersedia.\n"
   ]
  },
  {
   "cell_type": "markdown",
   "metadata": {},
   "source": [
    "## Dataset\n",
    "\n",
    "Kita akan mempergunakan **Iris Dataset** yang sudah disertkan oleh *Scikit Learn* sebagai sample dataset."
   ]
  },
  {
   "cell_type": "code",
   "execution_count": 2,
   "metadata": {},
   "outputs": [
    {
     "name": "stdout",
     "output_type": "stream",
     "text": [
      "Dimensi Feature: (150, 4)\n",
      "Class: {0, 1, 2}\n"
     ]
    }
   ],
   "source": [
    "from sklearn.datasets import load_iris\n",
    "\n",
    "X, y = load_iris(return_X_y=True)\n",
    "\n",
    "print(f'Dimensi Feature: {X.shape}')\n",
    "print(f'Class: {set(y)}')"
   ]
  },
  {
   "cell_type": "markdown",
   "metadata": {},
   "source": [
    "- Import modulnya dengan memanggil method *'from sklearn.datasets import load_iris'*.\n",
    "- Lalu berikutnya kta akan memanggil *'load_iris'* dengan menyertakan parameter *'(return_X_y)'* yang kita beri nilai *True*. Konsekuensinya disini kita harus menyiapkan 2 buah variabel yaitu *X* dan *y*, dimana *X* akan menampung sekumpulan nilai feature dan *y* akan menampung sekumpulan nilai target labelnya. \n",
    "- Lalu selanjutnya kita akan coba print out atau tampilkan shape atau dimensi dari variabel *X* nya dan juga akan kita coba print out atau tampilkan class apa saja yang terdapat pada target label *y* nya.\n",
    "\n",
    "Output dimensi feature atau dimensi dari variabel *X* nya terdiri dari 150 baris dan 4 kolom. Lalu terkait target label *y* nya, disini terdapat 3 buah class atau 3 nilai class yang berbeda yaitu class 0, class 1, dan class 2. Dimana setiap class tersebut merepresentasikan species dari **Iris Flower Dataset**.\n",
    "\n",
    "Kemudian kita akan membagi datasetnya kedalam *Training Set* dan *Testing Set*."
   ]
  },
  {
   "cell_type": "code",
   "execution_count": 3,
   "metadata": {},
   "outputs": [],
   "source": [
    "from sklearn.model_selection import train_test_split\n",
    "\n",
    "X_train, X_test, y_train, y_test = train_test_split(X,\n",
    "                                                    y,\n",
    "                                                    test_size=0.3,\n",
    "                                                    random_state=0)"
   ]
  },
  {
   "cell_type": "markdown",
   "metadata": {},
   "source": [
    "- Import modul dengan memanggil method *'from sklearn.model_selection import train_test_split'*. \n",
    "- Lalu berikutnya kita akan panggil *'train_test_split'* dengan menyertakan beberapa parameter yaitu *'(X, y)'*.\n",
    "- Lalu kita juga akan menentukan *'(test_size)'* sebesar 0.3. Artinya ukuran *testing_set* nya adalah 30%, sedangkan 70% nya akan kita alokasikan sebagai *Training Set*. \n",
    "- Selanjutnya untuk *'(random_state)'* nya akan kita pilih atau set sebagai 0. \n",
    "- Berikutnya pemanggilan *train_test_split* ini akan membutuhkan 4 buah variabel. Oleh karenanya, pada kasus ini kita akan siapkan *X_train, X_test, y_train,* serta *y_test* sebagai variabelnya.\n",
    "\n",
    "Disini kita sudah memiliki feature untuk Training set *X_Train* dan juga feature untuk testing set *X_test*, lalu kita juga memiliki target label untuk yraining set *y_train*, dan juga target label untuk testing setnya *y_test*."
   ]
  },
  {
   "cell_type": "markdown",
   "metadata": {},
   "source": [
    "## Classification dengan `RandomForestClassifier`\n",
    "\n",
    "Disini kita akan menerapkan **Random Forest** untuk melakukan klasifkasi species iris."
   ]
  },
  {
   "cell_type": "code",
   "execution_count": 5,
   "metadata": {},
   "outputs": [
    {
     "data": {
      "text/plain": [
       "RandomForestClassifier(random_state=0)"
      ]
     },
     "execution_count": 5,
     "metadata": {},
     "output_type": "execute_result"
    }
   ],
   "source": [
    "from sklearn.ensemble import RandomForestClassifier\n",
    "\n",
    "model = RandomForestClassifier(n_estimators=100, \n",
    "                               random_state=0)\n",
    "\n",
    "model.fit(X_train, y_train)"
   ]
  },
  {
   "cell_type": "markdown",
   "metadata": {},
   "source": [
    "- Pemanggilan Methode *'from sklearn.ensemble import RandomForestClassifier'*.\n",
    "- Selanjutnya kita akan bentuk objek dari *'RandomForestClassifier'* ini dengan menyertakan 2 buah parameter yaitu *'(n_estimators=100)'* yang untuk kasus kali ini kita melakukan training 100 buah model.\n",
    "- Lalu agar eksperimen kita ini bisa kita replicate dengan hasil yang konsisten, kita juga perlu mengeset random statenya yang dalam kasus kita kali ini adalah *'(random_state=0)'*. \n",
    "- Selanjutnya objek yang terbentuk tersbut akan kita tampung kedalam variabel *model*. \n",
    "- Untuk selanjutnya, model ini akan kita training dengan memanggil method *fit* dengan menyertakan parameter *'(X_train, y_train)'*.\n",
    "\n",
    "Proses training pada kali ini termasuk proses yang sangat cepat karena ukuran datasetnya juga tidak besar."
   ]
  },
  {
   "cell_type": "markdown",
   "metadata": {},
   "source": [
    "## Evaluasi Model\n",
    "\n",
    "Disini kita akan lakukan evaluasi performa dari model **Random Forest** yang baru saja kita training tadi dengan memanfaatkan **Classification Report**."
   ]
  },
  {
   "cell_type": "code",
   "execution_count": 6,
   "metadata": {},
   "outputs": [
    {
     "name": "stdout",
     "output_type": "stream",
     "text": [
      "              precision    recall  f1-score   support\n",
      "\n",
      "           0       1.00      1.00      1.00        16\n",
      "           1       1.00      0.94      0.97        18\n",
      "           2       0.92      1.00      0.96        11\n",
      "\n",
      "    accuracy                           0.98        45\n",
      "   macro avg       0.97      0.98      0.98        45\n",
      "weighted avg       0.98      0.98      0.98        45\n",
      "\n"
     ]
    }
   ],
   "source": [
    "from sklearn.metrics import classification_report\n",
    "\n",
    "y_pred = model.predict(X_test)\n",
    "\n",
    "print(classification_report(y_test, y_pred))"
   ]
  },
  {
   "cell_type": "markdown",
   "metadata": {},
   "source": [
    "- Pemanggilan *'from sklearn.metrics import classification_report'*.\n",
    "- Lalu berikutnya kita lakukan prediksi terhadap x_test dengan memanggil *'model.predict(X_test)'* yang akan kita tampung kedalam variabel *y_pred*.\n",
    "- Untuk selanjutnya kita akan memanggil *'classification_report'* dengan menyertakan parameter *'(y_test, y_pred)'*."
   ]
  },
  {
   "cell_type": "markdown",
   "metadata": {},
   "source": [
    "### Referensi\n",
    "\n",
    "- Referensi: https://en.wikipedia.org/wiki/Random_forest\n",
    "- Referensi: https://en.wikipedia.org/wiki/Ensemble_learning\n",
    "- Referensi: [https://en.wikipedia.org/wiki/Bootstrap_aggregating](https://en.wikipedia.org/wiki/Bootstrap_aggregating)\n",
    "- Referensi: https://en.wikipedia.org/wiki/Random_forest\n",
    "- Referensi: https://en.wikipedia.org/wiki/Iris_flower_data_set"
   ]
  },
  {
   "cell_type": "code",
   "execution_count": null,
   "metadata": {},
   "outputs": [],
   "source": []
  }
 ],
 "metadata": {
  "kernelspec": {
   "display_name": "Python 3",
   "language": "python",
   "name": "python3"
  },
  "language_info": {
   "codemirror_mode": {
    "name": "ipython",
    "version": 3
   },
   "file_extension": ".py",
   "mimetype": "text/x-python",
   "name": "python",
   "nbconvert_exporter": "python",
   "pygments_lexer": "ipython3",
   "version": "3.8.5"
  }
 },
 "nbformat": 4,
 "nbformat_minor": 5
}
