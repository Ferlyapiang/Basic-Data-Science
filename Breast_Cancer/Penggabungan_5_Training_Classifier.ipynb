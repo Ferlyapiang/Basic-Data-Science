{
 "cells": [
  {
   "cell_type": "markdown",
   "metadata": {},
   "source": [
    "## Tak Kenal Maka Tak Sayang\n",
    "\n",
    "- NRP : 1973005\n",
    "- Nama : Ferly Jeremi Purnawan Apiang"
   ]
  },
  {
   "cell_type": "markdown",
   "metadata": {},
   "source": [
    "## Fusion Antara 5 Classification\n",
    "\n",
    "Melakukan penggabungan antara 5 Classifier yang akan dibentuk di bawah Dengan menggunakan **Dataset Breast Cancer**"
   ]
  },
  {
   "cell_type": "markdown",
   "metadata": {},
   "source": [
    "# Load Breast Cancer Dataset"
   ]
  },
  {
   "cell_type": "code",
   "execution_count": 2,
   "metadata": {},
   "outputs": [
    {
     "name": "stdout",
     "output_type": "stream",
     "text": [
      "Dimensi Feature: (569, 30)\n",
      "Class: {0, 1}\n"
     ]
    }
   ],
   "source": [
    "from sklearn.datasets import load_breast_cancer\n",
    "\n",
    "X, y = load_breast_cancer(return_X_y=True)\n",
    "\n",
    "print(f'Dimensi Feature: {X.shape}')\n",
    "print(f'Class: {set(y)}')"
   ]
  },
  {
   "cell_type": "markdown",
   "metadata": {},
   "source": [
    "- Lakukan pemanggilan method *'from sklearn.datasets import load_breast_cancer'*.\n",
    "- Lalu berikutnya kta akan memanggil *'load_breast_cancer'* dengan menyertakan parameter *'(return_X_y)'* yang kita beri nilai *True*. Konsekuensinya disini kita harus menyiapkan 2 buah variabel yaitu *X* dan *y*, dimana *X* akan menampung sekumpulan nilai feature dan *y* akan menampung sekumpulan nilai target labelnya. \n",
    "- Lalu selanjutnya kita akan coba print out atau tampilkan shape atau dimensi dari variabel *X* nya, dan juga akan kita coba print out atau tampilkan class apa saja yang terdapat pada target label *y* nya.\n",
    "\n",
    "Hasil yang keluar yaitu dimensi feature atau dimensi dari variabel *X* nya terdiri dari 569 baris dan 30 kolom. Lalu terkait target label *y* nya, disini terdapat 2 buah class atau 2 nilai class yang berbeda yaitu class 0 dan class 1."
   ]
  },
  {
   "cell_type": "markdown",
   "metadata": {},
   "source": [
    "## Training & Testing Set\n",
    "Melakukan Pembagian Dataset ke dalam Training dan Testing Set"
   ]
  },
  {
   "cell_type": "code",
   "execution_count": 3,
   "metadata": {},
   "outputs": [],
   "source": [
    "from sklearn.model_selection import train_test_split\n",
    "\n",
    "X_train, X_test, y_train, y_test = train_test_split(X, y, test_size = 0.3, random_state = 0)"
   ]
  },
  {
   "cell_type": "markdown",
   "metadata": {},
   "source": [
    "- Disini pertama-tama kita akn import modul terlebih dahulu dengan memanggi method *'from sklearn.model_selection import train_test_split'*. \n",
    "- Lalu berikutnya kita akan panggil *'train_test_split'* dengan menyertakan beberapa parameter yaitu *'(X, y)'*.\n",
    "- Lalu kita juga akan menentukan *'(test_size)'* sebesar 0.3. Artinya ukuran *testing_set* nya adalah 30%, sedangkan 70% nya akan kita alokasikan sebagai *Training Set*. \n",
    "- Selanjutnya untuk *'(random_state)'* nya akan kita pilih atau set sebagai 0. \n",
    "- Berikutnya pemanggilan *train_test_split* ini akan membutuhkan 4 buah variabel. Oleh karenanya, pada kasus ini kita akan siapkan *X_train, X_test, y_train,* serta *y_test* sebagai variabelnya.\n",
    "\n",
    "Disini kita sudah memiliki feature untuk Training set *X_Train* dan juga feature untuk testing set *X_test*, lalu kita juga memiliki target label untuk yraining set *y_train*, dan juga target label untuk testing setnya *y_test*."
   ]
  },
  {
   "cell_type": "markdown",
   "metadata": {},
   "source": [
    "## Decision Tree Classifier"
   ]
  },
  {
   "cell_type": "markdown",
   "metadata": {},
   "source": [
    "Pertama kita akan menggunakan classifier pada Desicion Tree yang kita terapkan pada Breast Cancer dataset."
   ]
  },
  {
   "cell_type": "code",
   "execution_count": 4,
   "metadata": {},
   "outputs": [
    {
     "name": "stdout",
     "output_type": "stream",
     "text": [
      "Performance : 0.935672514619883\n"
     ]
    }
   ],
   "source": [
    "from sklearn import tree\n",
    "\n",
    "tree = tree.DecisionTreeClassifier(max_depth=5)\n",
    "\n",
    "tree.fit(X_train, y_train)\n",
    "\n",
    "tree.score(X_test, y_test)\n",
    "\n",
    "y_pred = tree.predict(X_test)\n",
    "print(f'Performance : {tree.score(X_test, y_test)}')"
   ]
  },
  {
   "cell_type": "markdown",
   "metadata": {},
   "source": [
    "- Import modulnya dengan memanggil *from sklearn import tree*.\n",
    "- Panggil*tree.DecisionTreeClassifier* dengan menyertakan parameter *(max_depth=5)* yang berarti menatpkan 5 layer per desicion tree nya.\n",
    "- Lakukan training pada *X_train* dan *y_train* nya dengan memanggil method *tree.fit(X_train, y_train)*.\n",
    "- Lakukan kalkulasi performa pada *X_test* serta *y_test* nya dengan memanggil fungsi *tree.score(X_test, y_test)*.\n",
    "- Lalu kita panggil *tree.predict* dengan menyetakan parameter *(X_test)* yang ditampung kedalam variabel *y_pred*.\n",
    "- Terakhir kita tampilkan hasil kalkulasi score pada *X_test* dan *y_test* nya dengan memangggil *tree.score(X_test, y_test)* lalu kita print untuk melihat hasilnya.\n",
    "\n",
    "Hasil score performa pada model **Desicion Tree**  yang dikenakan pada **Breast Cancer** dataset yaitu 0.935672514619883."
   ]
  },
  {
   "cell_type": "markdown",
   "metadata": {},
   "source": [
    "## Naive Bayes Classifier"
   ]
  },
  {
   "cell_type": "markdown",
   "metadata": {},
   "source": [
    "Selanjutnya kita menggunakan classifier pada Naive Bayes pada Breast Cancer dataset."
   ]
  },
  {
   "cell_type": "code",
   "execution_count": 7,
   "metadata": {},
   "outputs": [
    {
     "name": "stdout",
     "output_type": "stream",
     "text": [
      " Performance : 0.9239766081871345\n"
     ]
    }
   ],
   "source": [
    "from sklearn.naive_bayes import GaussianNB\n",
    "\n",
    "nb = GaussianNB()\n",
    "\n",
    "nb.fit(X_train, y_train)\n",
    "\n",
    "print(f' Performance : {nb.score(X_test, y_test)}')"
   ]
  },
  {
   "cell_type": "markdown",
   "metadata": {},
   "source": [
    "- Pemanggilan Method \"from sklearn.naive_bayes import GaussianNB\". NB merepresentasikan Naive Bayes.\n",
    "- Membentuk objek model \"GaussianNB()\" yang ditampung kedalam variabel *nb*.\n",
    "- Lakukan Traning method \"fit()\" dengan menyertakan parameter \"(X_train, y_train)\".\n",
    "- Untuk selanjutnya, kita akan mengukur nilai akurasinya dengan memanggil fungsi *nb_score* dengan menyertakan parameter \"(X_test, y_test)\"\n",
    "\n",
    "Bisa kita lihat pada hasil output code 05 bahwa hasil score performa pada model **Naive Bayes**  yang dikenakan pada **Breast Cancer** dataset yaitu 0.9239766081871345."
   ]
  },
  {
   "cell_type": "markdown",
   "metadata": {},
   "source": [
    "## Random Forest Classifier"
   ]
  },
  {
   "cell_type": "markdown",
   "metadata": {},
   "source": [
    "Selanjutnya kita akan menggunakan classifier pada Random Forest yang kita terapkan pada Breast Cancer dataset."
   ]
  },
  {
   "cell_type": "code",
   "execution_count": 10,
   "metadata": {},
   "outputs": [
    {
     "name": "stdout",
     "output_type": "stream",
     "text": [
      "Performance : 1.0\n"
     ]
    }
   ],
   "source": [
    "from sklearn import ensemble\n",
    "\n",
    "forest = ensemble.RandomForestClassifier(n_estimators = 100,\n",
    "                                        random_state = 0)\n",
    "\n",
    "forest.fit(X_train, y_train)\n",
    "\n",
    "print(f'Performance : {forest.score(X_train, y_train)}')"
   ]
  },
  {
   "cell_type": "markdown",
   "metadata": {},
   "source": [
    "- Pemanggilan method *from sklearn import ensemble*.\n",
    "- Panggil *ensemble.RandomForestClassifier* dengan menyertakan parameter *(n_estimators = 100)*  yang untuk kasus kali ini kita melakukan training 100 buah model.\n",
    "- Kita akan melakukan replicate dengan hasil yang konsisten, kita juga perlu mengeset random statenya yang dalam kasus kita kali ini adalah *'(random_state=0)'*. \n",
    "- Selanjutnya objek yang terbentuk tersbut akan kita tampung kedalam variabel *forest*. \n",
    "- Untuk selanjutnya, model ini akan kita training dengan memanggil method *fit* dengan menyertakan parameter *'(X_train, y_train)'*.\n",
    "- Terakhir kita tampilkan hasil kalkulasi score pada *X_test* dan *y_test* nya dengan memangggil *forest.score(X_test, y_test)* lalu kita print untuk melihat hasilnya.\n",
    "\n",
    "Outputnya menapikan hasil score performa pada model **Random Forest**  yang dikenakan pada **Breast Cancer** dataset yaitu 1.0."
   ]
  },
  {
   "cell_type": "markdown",
   "metadata": {},
   "source": [
    "## Support Vector Machine"
   ]
  },
  {
   "cell_type": "markdown",
   "metadata": {},
   "source": [
    "Selanjutnya kita akan menggunakan classifier Support Vector Machine yang kita terapkan pada Breast Cancer dataset.\""
   ]
  },
  {
   "cell_type": "code",
   "execution_count": 12,
   "metadata": {},
   "outputs": [
    {
     "name": "stdout",
     "output_type": "stream",
     "text": [
      "Performance : 0.9883040935672515\n"
     ]
    }
   ],
   "source": [
    "from sklearn.svm import SVC\n",
    "\n",
    "svm = SVC(probability = True, kernel = 'linear')\n",
    "\n",
    "svm.fit(X_test, y_test)\n",
    "\n",
    "print(f'Performance : {svm.score(X_test, y_test)}')"
   ]
  },
  {
   "cell_type": "markdown",
   "metadata": {},
   "source": [
    "- Panggil *from sklearn.svm import SVC*.\n",
    "- Lalu kita panggil *SVC* dengan menyertakan parameter *(probability = True, kernel = 'linear')* yang kita tampung kedalam variabel *svm*.\n",
    "- Selanjutnya kita lakukan training terhadap variabel *svm* dengan memanggil method *svm.fit(X_test, y_test)*.\n",
    "- Terakhir kita akan mencetak performanya dengan memanggil *svm.score(X_test, y_test)* lalu kita tampilkan pada layar dengan print.\n",
    "\n",
    "hasil score performanya pada model **SVM**  yang dikenakan pada **Breast Cancer** dataset yaitu 0.9883040935672515."
   ]
  },
  {
   "cell_type": "markdown",
   "metadata": {},
   "source": [
    "## K-Nearest Neighbor Classifier"
   ]
  },
  {
   "cell_type": "markdown",
   "metadata": {},
   "source": [
    "Lalu yang terakhir kita akan menggunakan classifier pada K-Nearest Neighbor yang kita terapkan pada Breast Cancer dataset."
   ]
  },
  {
   "cell_type": "code",
   "execution_count": 14,
   "metadata": {},
   "outputs": [
    {
     "name": "stdout",
     "output_type": "stream",
     "text": [
      "Performance : 0.9181286549707602\n"
     ]
    }
   ],
   "source": [
    "from sklearn.neighbors import KNeighborsClassifier\n",
    "\n",
    "knn = KNeighborsClassifier(n_neighbors = 3)\n",
    "\n",
    "knn.fit(X_train, y_train)\n",
    "\n",
    "print(f'Performance : {knn.score(X_test, y_test)}')"
   ]
  },
  {
   "cell_type": "markdown",
   "metadata": {},
   "source": [
    "- Panggil *from sklearn.neighbors import KNeighborsClassifier*.\n",
    "- Pemanggilan *KNeighborsClassifier* dengan menyertakan parameter *(n_neighbors = 3)* yang dalam kasus kali ini kita akan melakukan klasifikasi terhadap 3 tetangga terdekat, lalu kita tampung kedalam variabel *knn*.\n",
    "- Selnjutnya kita akan melakukan training terhadap model yang sudha kita bentuk dengan memanggil method *knn.fit* dengan menyertakan parameter *(X_train, y_train)*.\n",
    "- Terakhir kita akan tampilkan score atau kalkulasi performa nya dengan memanggil method *knn.score(X_test, y_test)* kemudian kita tampilkan ke layar dengan print.\n",
    "\n",
    "\n",
    "Output yang dikeluarkan untuk hasil score performanya pada model **KNN**  yang dikenakan pada **Breast Cancer** dataset yaitu 0.9181286549707602."
   ]
  },
  {
   "cell_type": "markdown",
   "metadata": {},
   "source": [
    "# Penggabungan 5 Classifier"
   ]
  },
  {
   "cell_type": "markdown",
   "metadata": {},
   "source": [
    "## Receiver Operating Characteristic (ROC)"
   ]
  },
  {
   "cell_type": "markdown",
   "metadata": {},
   "source": [
    "Penggunaan ROC untuk melakukan visualisasi terhadap performa dari beberapa training classifier yang kita gunakan terhadap Breast Cancer dataset."
   ]
  },
  {
   "cell_type": "code",
   "execution_count": 15,
   "metadata": {},
   "outputs": [],
   "source": [
    "tree_prob = tree.predict_proba(X_test) # Desicion Tree Prediction\n",
    "nb_prob = nb.predict_proba(X_test) # Naive Bayes Prediction\n",
    "forest_prob = forest.predict_proba(X_test) # Random Forest Prediction\n",
    "svm_prob = svm.predict_proba(X_test) # SVM Prediction\n",
    "knn_prob = knn.predict_proba(X_test) # KNN Prediction"
   ]
  },
  {
   "cell_type": "markdown",
   "metadata": {},
   "source": [
    "Disini kita akan melakukan prediksi probability atau prediksi kemungkinan dari training classifier yang sudah kita training tadi terhadap Breast Cancer dataset."
   ]
  },
  {
   "cell_type": "markdown",
   "metadata": {},
   "source": [
    "## Probabilities Positive Outcome"
   ]
  },
  {
   "cell_type": "markdown",
   "metadata": {},
   "source": [
    "Kami akan melakukan kemungkinan angka yang keluar adalah angka positif atau >= 1."
   ]
  },
  {
   "cell_type": "code",
   "execution_count": 32,
   "metadata": {},
   "outputs": [],
   "source": [
    "tree = tree_prob[:, 1]\n",
    "nb = nb_prob[:, 1]\n",
    "forest = forest_prob[:, 1]\n",
    "svm = svm_prob[:, 1]\n",
    "knn = knn_prob[:, 1]\n",
    "\n",
    "# Jika mau melihat hasil kalian bisa print salah satu yang ada di bawah terima kasih\n",
    "\n",
    "# print(f'Decision Tree : {tree}')\n",
    "# print(f'Naive Bayes : {nb}')\n",
    "# print(f'Random Forest : {forest}')\n",
    "# print(f'SVM : {svm}')\n",
    "# print(f'KNN : {knn}')"
   ]
  },
  {
   "cell_type": "markdown",
   "metadata": {},
   "source": [
    "## Compute AUROC"
   ]
  },
  {
   "cell_type": "markdown",
   "metadata": {},
   "source": [
    "Melakukan kalkulasi nilai AUROC pada kelima model classifier kita."
   ]
  },
  {
   "cell_type": "code",
   "execution_count": 34,
   "metadata": {},
   "outputs": [
    {
     "name": "stdout",
     "output_type": "stream",
     "text": [
      "Desicion Tree AUROC Value = 0.9440035273368607\n",
      "Naive Bayes AUROC Value = 0.9854497354497355\n",
      "Random Forest AUROC Value = 0.9964726631393298\n",
      "Support Vector Machine (SVM) AUROC Value = 0.9975014697236919\n",
      "Key Nearest Neighbors (KNN) AUROC Value = 0.9502498530276308\n"
     ]
    }
   ],
   "source": [
    "from sklearn.metrics import roc_curve, roc_auc_score\n",
    "\n",
    "tree_auc = roc_auc_score(y_test, tree)\n",
    "nb_auc = roc_auc_score(y_test, nb)\n",
    "forest_auc = roc_auc_score(y_test, forest)\n",
    "svm_auc = roc_auc_score(y_test, svm)\n",
    "knn_auc = roc_auc_score(y_test, knn)\n",
    "\n",
    "print(F'Desicion Tree AUROC Value = {tree_auc}')\n",
    "print(F'Naive Bayes AUROC Value = {nb_auc}')\n",
    "print(F'Random Forest AUROC Value = {forest_auc}')\n",
    "print(F'Support Vector Machine (SVM) AUROC Value = {svm_auc}')\n",
    "print(F'Key Nearest Neighbors (KNN) AUROC Value = {knn_auc}')"
   ]
  },
  {
   "cell_type": "markdown",
   "metadata": {},
   "source": [
    "Ini merupakan hasil perhitungan kalian bisa melihat hasil-hasilnya dari AUROC kalkulasing yang ada di atas sesuai classifier masing-masing"
   ]
  },
  {
   "cell_type": "markdown",
   "metadata": {},
   "source": [
    "## Calculate ROC Curve"
   ]
  },
  {
   "cell_type": "markdown",
   "metadata": {},
   "source": [
    "Kalkulasi atau perhitungan dari kurva ROC."
   ]
  },
  {
   "cell_type": "code",
   "execution_count": 35,
   "metadata": {},
   "outputs": [],
   "source": [
    "tree_fpr, tree_tpr, _ = roc_curve(y_test, tree)\n",
    "nb_fpr, nb_tpr, _ = roc_curve(y_test, nb)\n",
    "forest_fpr, forest_tpr, _ = roc_curve(y_test, forest)\n",
    "svm_fpr, svm_tpr, _ = roc_curve(y_test, svm)\n",
    "knn_fpr, knn_tpr, _ = roc_curve(y_test, knn)"
   ]
  },
  {
   "cell_type": "markdown",
   "metadata": {},
   "source": [
    "Untuk hasilnya akan kita coba tampilkan dengan menggunakan data visualisation dengan Matplotlib."
   ]
  },
  {
   "cell_type": "markdown",
   "metadata": {},
   "source": [
    "## Data Visualisation\n",
    "Langkah terakhir, kita akan melakukan ploting untuk melihat perbandingan performa dari kelima model classifier yang telah kita gunakan pada Breast Cancer dataset."
   ]
  },
  {
   "cell_type": "code",
   "execution_count": 38,
   "metadata": {},
   "outputs": [
    {
     "data": {
      "image/png": "[encoded data removed]",
      "text/plain": [
       "<Figure size 1080x720 with 1 Axes>"
      ]
     },
     "metadata": {
      "needs_background": "light"
     },
     "output_type": "display_data"
    }
   ],
   "source": [
    "import matplotlib.pyplot as plt\n",
    "\n",
    "plt.figure(figsize = (15, 10))\n",
    "\n",
    "plt.plot(tree_fpr, tree_tpr, linestyle = '--', label = 'Desicion Tree (AUROC = %0.3f)' %tree_auc)\n",
    "plt.plot(nb_fpr, nb_tpr, linestyle = '--', label = 'Naive Bayes (AUROC = %0.3f)' %nb_auc)\n",
    "plt.plot(forest_fpr, forest_tpr, linestyle = '--', label = 'Random Forest (AUROC = %0.3f)' %forest_auc)\n",
    "plt.plot(svm_fpr, svm_tpr, linestyle = '--', label = 'Support Vector Machine (SVM) (AUROC = %0.3f)' %svm_auc)\n",
    "plt.plot(knn_fpr, knn_tpr, linestyle = '--', label = 'Key Nearest Neighbors (KNN) (AUROC = %0.3f)' %knn_auc)\n",
    "\n",
    "\n",
    "# Title / Judul\n",
    "\n",
    "plt.title('ROC Plot')\n",
    "\n",
    "# Axis label / Label di sebelah kiri dan bawah atau x dan y\n",
    "\n",
    "plt.xlabel('False Positive Rate')\n",
    "plt.ylabel('True Positive Rate')\n",
    "\n",
    "# Show Legend / tampilan untuk penulisan nama-nama classifier\n",
    "\n",
    "plt.legend()\n",
    "plt.show()"
   ]
  },
  {
   "cell_type": "markdown",
   "metadata": {},
   "source": [
    "Demikianlah cara yang dilakukan untuk melakukan perbandingan dari beberapa model classifier yang dikenakan pada Breast Cancer dataset."
   ]
  }
 ],
 "metadata": {
  "kernelspec": {
   "display_name": "Python 3",
   "language": "python",
   "name": "python3"
  },
  "language_info": {
   "codemirror_mode": {
    "name": "ipython",
    "version": 3
   },
   "file_extension": ".py",
   "mimetype": "text/x-python",
   "name": "python",
   "nbconvert_exporter": "python",
   "pygments_lexer": "ipython3",
   "version": "3.8.5"
  }
 },
 "nbformat": 4,
 "nbformat_minor": 4
}
