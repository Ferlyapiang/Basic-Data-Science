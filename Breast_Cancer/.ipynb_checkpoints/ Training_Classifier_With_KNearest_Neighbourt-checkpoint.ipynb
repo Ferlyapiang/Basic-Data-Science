{
 "cells": [
  {
   "cell_type": "markdown",
   "metadata": {},
   "source": [
    "## Tak kenal Maka Tak Sayang\n",
    "\n",
    "- 1973005\n",
    "- Ferly Jeremi Purnawan Apiang"
   ]
  },
  {
   "cell_type": "markdown",
   "metadata": {},
   "source": [
    "# Load Breast Cancer Dataset"
   ]
  },
  {
   "cell_type": "code",
   "execution_count": 5,
   "metadata": {},
   "outputs": [],
   "source": [
    "from sklearn.datasets import load_breast_cancer\n",
    "\n",
    "Breast_cancer = load_breast_cancer()"
   ]
  },
  {
   "cell_type": "markdown",
   "metadata": {},
   "source": [
    "## Dataset Dimension"
   ]
  },
  {
   "cell_type": "code",
   "execution_count": 6,
   "metadata": {},
   "outputs": [
    {
     "data": {
      "text/plain": [
       "(569, 30)"
      ]
     },
     "execution_count": 6,
     "metadata": {},
     "output_type": "execute_result"
    }
   ],
   "source": [
    "Breast_cancer['data'].shape"
   ]
  },
  {
   "cell_type": "markdown",
   "metadata": {},
   "source": [
    "Breast Cancer dataset memiliki 569 baris dan 30 kolom."
   ]
  },
  {
   "cell_type": "markdown",
   "metadata": {},
   "source": [
    "## Training Set dan Testing Set"
   ]
  },
  {
   "cell_type": "markdown",
   "metadata": {},
   "source": [
    "Kita akan membagi dataset kedalam Training Set dan Testing Set nya."
   ]
  },
  {
   "cell_type": "code",
   "execution_count": 7,
   "metadata": {},
   "outputs": [
    {
     "name": "stdout",
     "output_type": "stream",
     "text": [
      "X_train shape (426, 30)\n",
      "X_test shape (143, 30)\n",
      "Y_train shape (426,)\n",
      "Y_test shape (143,)\n"
     ]
    }
   ],
   "source": [
    "from sklearn.model_selection import train_test_split\n",
    "X_train, X_test, y_train, y_test = train_test_split(\n",
    "    cancer['data'], cancer['target'], random_state = 0)\n",
    "\n",
    "print(\"X_train shape\", format(X_train.shape))\n",
    "print(\"X_test shape\", format(X_test.shape))\n",
    "\n",
    "print(\"Y_train shape\", format(y_train.shape))\n",
    "print(\"Y_test shape\", format(y_test.shape))"
   ]
  },
  {
   "cell_type": "markdown",
   "metadata": {},
   "source": [
    "- Pertama-tama kita import terlebih dahulu modulnya dengan memanggil *from sklearn.model_selection import train_test_split*.\n",
    "- Lalu kita panggil *train_test_split* dengan menyertakan parameter *(cancer['data'], cancer['target'], random_state = 0)*.\n",
    "- Lalu kita tampikan *X_train* dan *X_test* nya untuk melihat dimensi dari training set dan testing set nya.\n",
    "\n",
    "Berdasarkan hasil output kita bisa lihat bahwa X_train shape (426, 30) dan X_test shape (143, 30).\n",
    "    \n"
   ]
  },
  {
   "cell_type": "markdown",
   "metadata": {},
   "source": [
    "## KNN Traning Classification"
   ]
  },
  {
   "cell_type": "markdown",
   "metadata": {},
   "source": [
    "Model machine learning yang akan kita gunakan adalah **KNN**."
   ]
  },
  {
   "cell_type": "code",
   "execution_count": 8,
   "metadata": {},
   "outputs": [
    {
     "data": {
      "text/plain": [
       "KNeighborsClassifier(n_neighbors=1)"
      ]
     },
     "execution_count": 8,
     "metadata": {},
     "output_type": "execute_result"
    }
   ],
   "source": [
    "from sklearn.neighbors import KNeighborsClassifier\n",
    "\n",
    "knn = KNeighborsClassifier(n_neighbors = 1)\n",
    "\n",
    "knn.fit(X_train, y_train)"
   ]
  },
  {
   "cell_type": "markdown",
   "metadata": {},
   "source": [
    "- Import 'from sklearn.neighbors import KNeighborsClassifier'.\n",
    "- Lalu kita panggil *KNeighborsClassifier* dengan menyertakan parameter *(n_neighbors = 1)* artinya kita menentukan jumlah tetangga pada kasus ini ialah 1 tetangga terdekat yang kita tampung ke dalam variabel *knn*.\n",
    "- *X_train* dan *y_train* dengan memanggil *fit(X_train, y_train)* yang kita kenakan pada variabel *knn*. "
   ]
  },
  {
   "cell_type": "markdown",
   "metadata": {},
   "source": [
    "## Prediction Breast Cancer Dataset by KNN"
   ]
  },
  {
   "cell_type": "markdown",
   "metadata": {},
   "source": [
    "Melakukan prediksi terhadap X_test yang dimiliki."
   ]
  },
  {
   "cell_type": "code",
   "execution_count": 10,
   "metadata": {},
   "outputs": [],
   "source": [
    "y_pred = knn.predict(X_test)"
   ]
  },
  {
   "cell_type": "markdown",
   "metadata": {},
   "source": [
    "# Classification Report"
   ]
  },
  {
   "cell_type": "code",
   "execution_count": 11,
   "metadata": {},
   "outputs": [
    {
     "name": "stdout",
     "output_type": "stream",
     "text": [
      "Classification Report :\n",
      "              precision    recall  f1-score   support\n",
      "\n",
      "           0       0.90      0.87      0.88        53\n",
      "           1       0.92      0.94      0.93        90\n",
      "\n",
      "    accuracy                           0.92       143\n",
      "   macro avg       0.91      0.91      0.91       143\n",
      "weighted avg       0.92      0.92      0.92       143\n",
      "\n"
     ]
    }
   ],
   "source": [
    "from sklearn.metrics import classification_report\n",
    "\n",
    "cls_report = classification_report(y_test, y_pred)\n",
    "\n",
    "print(f'Classification Report :\\n{cls_report}')"
   ]
  },
  {
   "cell_type": "markdown",
   "metadata": {},
   "source": [
    "- Lakukan Import *'from sklearn.metrics import classification_report'*.\n",
    "- Untuk selanjutnya kita akan memanggil *'classification_report'* dengan menyertakan parameter *'(y_test, y_pred)'* yang kita tampung kedalam variabel *cls_report*.\n",
    "\n",
    "Merupakan *classification report* sebagai bentuk evaluasi terhadap model **KNN** pada **Breast Cancer** dataset yang baru saja kita training sebelumnya, ditampilkan nilai *precision*, *recall*, serta *f1-score* nya."
   ]
  }
 ],
 "metadata": {
  "kernelspec": {
   "display_name": "Python 3",
   "language": "python",
   "name": "python3"
  },
  "language_info": {
   "codemirror_mode": {
    "name": "ipython",
    "version": 3
   },
   "file_extension": ".py",
   "mimetype": "text/x-python",
   "name": "python",
   "nbconvert_exporter": "python",
   "pygments_lexer": "ipython3",
   "version": "3.8.5"
  }
 },
 "nbformat": 4,
 "nbformat_minor": 4
}
